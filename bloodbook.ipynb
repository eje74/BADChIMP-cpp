{
 "cells": [
  {
   "cell_type": "code",
   "execution_count": 12,
   "id": "4b0c4c29",
   "metadata": {},
   "outputs": [],
   "source": [
    "import pyvista as pv\n",
    "import numpy as np\n",
    "from pathlib import Path"
   ]
  },
  {
   "cell_type": "code",
   "execution_count": 13,
   "id": "24cb26f2",
   "metadata": {},
   "outputs": [],
   "source": [
    "file = Path('blood/centerlines.vtp')\n",
    "cl = pv.read(file)"
   ]
  },
  {
   "cell_type": "code",
   "execution_count": 14,
   "id": "662225d1",
   "metadata": {},
   "outputs": [
    {
     "data": {
      "text/plain": [
       "(6, 6, 1, 701)"
      ]
     },
     "execution_count": 14,
     "metadata": {},
     "output_type": "execute_result"
    }
   ],
   "source": [
    "cl.n_cells, cl.n_lines, cl.n_arrays, cl.n_points"
   ]
  },
  {
   "cell_type": "code",
   "execution_count": 15,
   "id": "26192e82",
   "metadata": {},
   "outputs": [
    {
     "data": {
      "text/plain": [
       "(701,)"
      ]
     },
     "execution_count": 15,
     "metadata": {},
     "output_type": "execute_result"
    }
   ],
   "source": [
    "cl2 = cl.compute_arc_length()\n",
    "cl2['arc_length'].shape"
   ]
  },
  {
   "cell_type": "code",
   "execution_count": 16,
   "id": "5510e120",
   "metadata": {},
   "outputs": [
    {
     "data": {
      "text/plain": [
       "'PolyData (0x7f2fc39c2640)\\n  N Cells:\\t6\\n  N Points:\\t701\\n  X Bounds:\\t-4.257e+01, 2.567e+01\\n  Y Bounds:\\t-1.400e+00, 4.615e+01\\n  Z Bounds:\\t-1.812e+01, 9.256e+01\\n  N Arrays:\\t1\\n'"
      ]
     },
     "execution_count": 16,
     "metadata": {},
     "output_type": "execute_result"
    }
   ],
   "source": [
    "cl.head()"
   ]
  },
  {
   "cell_type": "code",
   "execution_count": 17,
   "id": "7dae7974",
   "metadata": {},
   "outputs": [
    {
     "data": {
      "text/plain": [
       "pyvista DataSetAttributes\n",
       "Association     : CELL\n",
       "Active Scalars  : None\n",
       "Active Vectors  : None\n",
       "Active Texture  : None\n",
       "Active Normals  : None\n",
       "Contains arrays : None"
      ]
     },
     "execution_count": 17,
     "metadata": {},
     "output_type": "execute_result"
    }
   ],
   "source": [
    "npoints = [cl.cell_n_points(i) for i in range(cl.n_cells)]\n",
    "start = np.cumsum([0]+npoints)\n",
    "lines = [np.arange(start[i],start[i+1]) for i in range(len(start)-1)]\n",
    "cl.compute_arc_length()\n",
    "cl.cell_data"
   ]
  },
  {
   "cell_type": "code",
   "execution_count": 18,
   "id": "1f70e079",
   "metadata": {},
   "outputs": [
    {
     "data": {
      "text/plain": [
       "array([574, 575, 576, 577, 578, 579, 580, 581, 582, 583, 584, 585, 586,\n",
       "       587, 588, 589, 590, 591, 592, 593, 594, 595, 596, 597, 598, 599,\n",
       "       600, 601, 602, 603, 604, 605, 606, 607, 608, 609, 610, 611, 612,\n",
       "       613, 614, 615, 616, 617, 618, 619, 620, 621, 622, 623, 624, 625,\n",
       "       626, 627, 628, 629, 630, 631, 632, 633, 634, 635, 636, 637, 638,\n",
       "       639, 640, 641, 642, 643, 644, 645, 646, 647, 648, 649, 650, 651,\n",
       "       652, 653, 654, 655, 656, 657, 658, 659, 660, 661, 662, 663, 664,\n",
       "       665, 666, 667, 668, 669, 670, 671, 672, 673, 674, 675, 676, 677,\n",
       "       678, 679, 680, 681, 682, 683, 684, 685, 686, 687, 688, 689, 690,\n",
       "       691, 692, 693, 694, 695, 696, 697, 698, 699, 700])"
      ]
     },
     "execution_count": 18,
     "metadata": {},
     "output_type": "execute_result"
    }
   ],
   "source": [
    "cl2 = cl.extract_cells(5)\n",
    "cl2[cl2.array_names[1]]"
   ]
  },
  {
   "cell_type": "code",
   "execution_count": 19,
   "id": "0c0db889",
   "metadata": {
    "scrolled": true
   },
   "outputs": [],
   "source": [
    "lines = [pv.PolyData(cl.cell_points(i))  for i in range(cl.n_cells)]\n",
    "#length = [l['arc_length'] for l in lines]"
   ]
  },
  {
   "cell_type": "code",
   "execution_count": 20,
   "id": "dde7d1af",
   "metadata": {},
   "outputs": [
    {
     "data": {
      "text/html": [
       "\n",
       "<table>\n",
       "<tr><th>PolyData</th><th>Information</th></tr>\n",
       "<tr><td>N Cells</td><td>89</td></tr>\n",
       "<tr><td>N Points</td><td>89</td></tr>\n",
       "<tr><td>X Bounds</td><td>-2.838e+01, -1.971e+01</td></tr>\n",
       "<tr><td>Y Bounds</td><td>2.862e+01, 3.915e+01</td></tr>\n",
       "<tr><td>Z Bounds</td><td>-1.812e+01, 5.463e+01</td></tr>\n",
       "<tr><td>N Arrays</td><td>0</td></tr>\n",
       "</table>\n",
       "\n"
      ],
      "text/plain": [
       "PolyData (0x7f2fc4273fa0)\n",
       "  N Cells:\t89\n",
       "  N Points:\t89\n",
       "  X Bounds:\t-2.838e+01, -1.971e+01\n",
       "  Y Bounds:\t2.862e+01, 3.915e+01\n",
       "  Z Bounds:\t-1.812e+01, 5.463e+01\n",
       "  N Arrays:\t0"
      ]
     },
     "execution_count": 20,
     "metadata": {},
     "output_type": "execute_result"
    }
   ],
   "source": [
    "lines[0]"
   ]
  },
  {
   "cell_type": "code",
   "execution_count": 21,
   "id": "a15d77f3",
   "metadata": {},
   "outputs": [],
   "source": [
    "A = np.arange(12).reshape(2,6)"
   ]
  },
  {
   "cell_type": "code",
   "execution_count": 22,
   "id": "5ee48120",
   "metadata": {},
   "outputs": [
    {
     "data": {
      "text/plain": [
       "array([0, 1, 2, 3, 4, 5])"
      ]
     },
     "execution_count": 22,
     "metadata": {},
     "output_type": "execute_result"
    }
   ],
   "source": [
    "A[0,:]"
   ]
  },
  {
   "cell_type": "code",
   "execution_count": 44,
   "id": "9729b0ad",
   "metadata": {},
   "outputs": [
    {
     "name": "stdout",
     "output_type": "stream",
     "text": [
      "[155 118 240]\n",
      "line 0: mean = 21.88690134509196\n",
      "line 1: mean = 24.624908862034168\n",
      "line 2: mean = 13.658055077280377\n",
      "line 3: mean = 12.159201728427583\n",
      "line 4: mean = 24.293164043619424\n",
      "line 5: mean = 14.927929848567322\n"
     ]
    },
    {
     "data": {
      "image/png": "[encoded data removed]",
      "text/plain": [
       "<Figure size 432x288 with 1 Axes>"
      ]
     },
     "metadata": {
      "needs_background": "light"
     },
     "output_type": "display_data"
    },
    {
     "data": {
      "image/png": "[encoded data removed]",
      "text/plain": [
       "<Figure size 432x288 with 1 Axes>"
      ]
     },
     "metadata": {
      "needs_background": "light"
     },
     "output_type": "display_data"
    },
    {
     "data": {
      "image/png": "[encoded data removed]",
      "text/plain": [
       "<Figure size 432x288 with 1 Axes>"
      ]
     },
     "metadata": {
      "needs_background": "light"
     },
     "output_type": "display_data"
    },
    {
     "data": {
      "image/png": "[encoded data removed]",
      "text/plain": [
       "<Figure size 432x288 with 1 Axes>"
      ]
     },
     "metadata": {
      "needs_background": "light"
     },
     "output_type": "display_data"
    },
    {
     "data": {
      "image/png": "[encoded data removed]",
      "text/plain": [
       "<Figure size 432x288 with 1 Axes>"
      ]
     },
     "metadata": {
      "needs_background": "light"
     },
     "output_type": "display_data"
    },
    {
     "data": {
      "image/png": "[encoded data removed]",
      "text/plain": [
       "<Figure size 432x288 with 1 Axes>"
      ]
     },
     "metadata": {
      "needs_background": "light"
     },
     "output_type": "display_data"
    },
    {
     "name": "stdout",
     "output_type": "stream",
     "text": [
      "tube_list: [2, 3, 5, 1]\n",
      "Unexpected exception formatting exception. Falling back to standard exception\n"
     ]
    },
    {
     "name": "stderr",
     "output_type": "stream",
     "text": [
      "Traceback (most recent call last):\n",
      "  File \"/home/AD.NORCERESEARCH.NO/javi/.local/lib/python3.8/site-packages/IPython/core/interactiveshell.py\", line 2737, in safe_execfile\n",
      "    py3compat.execfile(\n",
      "  File \"/home/AD.NORCERESEARCH.NO/javi/.local/lib/python3.8/site-packages/IPython/utils/py3compat.py\", line 55, in execfile\n",
      "    exec(compiler(f.read(), fname, \"exec\"), glob, loc)\n",
      "  File \"/home/AD.NORCERESEARCH.NO/javi/github/BADChIMP-cpp/PythonScripts/distance_map.py\", line 128, in <module>\n",
      "    slice[is_zero] += new_slice - npmin(new_slice[nonzero(new_slice)]) + npmax(slice)\n",
      "numpy.core._exceptions._UFuncOutputCastingError: Cannot cast ufunc 'add' output from dtype('float64') to dtype('int64') with casting rule 'same_kind'\n",
      "\n",
      "During handling of the above exception, another exception occurred:\n",
      "\n",
      "Traceback (most recent call last):\n",
      "  File \"/home/AD.NORCERESEARCH.NO/javi/.local/lib/python3.8/site-packages/IPython/core/interactiveshell.py\", line 1992, in showtraceback\n",
      "    stb = self.InteractiveTB.structured_traceback(\n",
      "  File \"/home/AD.NORCERESEARCH.NO/javi/.local/lib/python3.8/site-packages/IPython/core/ultratb.py\", line 1118, in structured_traceback\n",
      "    return FormattedTB.structured_traceback(\n",
      "  File \"/home/AD.NORCERESEARCH.NO/javi/.local/lib/python3.8/site-packages/IPython/core/ultratb.py\", line 1012, in structured_traceback\n",
      "    return VerboseTB.structured_traceback(\n",
      "  File \"/home/AD.NORCERESEARCH.NO/javi/.local/lib/python3.8/site-packages/IPython/core/ultratb.py\", line 865, in structured_traceback\n",
      "    formatted_exception = self.format_exception_as_a_whole(etype, evalue, etb, number_of_lines_of_context,\n",
      "  File \"/home/AD.NORCERESEARCH.NO/javi/.local/lib/python3.8/site-packages/IPython/core/ultratb.py\", line 818, in format_exception_as_a_whole\n",
      "    frames.append(self.format_record(r))\n",
      "  File \"/home/AD.NORCERESEARCH.NO/javi/.local/lib/python3.8/site-packages/IPython/core/ultratb.py\", line 736, in format_record\n",
      "    result += ''.join(_format_traceback_lines(frame_info.lines, Colors, self.has_colors, lvals))\n",
      "  File \"/home/AD.NORCERESEARCH.NO/javi/.local/lib/python3.8/site-packages/stack_data/utils.py\", line 145, in cached_property_wrapper\n",
      "    value = obj.__dict__[self.func.__name__] = self.func(obj)\n",
      "  File \"/home/AD.NORCERESEARCH.NO/javi/.local/lib/python3.8/site-packages/stack_data/core.py\", line 698, in lines\n",
      "    pieces = self.included_pieces\n",
      "  File \"/home/AD.NORCERESEARCH.NO/javi/.local/lib/python3.8/site-packages/stack_data/utils.py\", line 145, in cached_property_wrapper\n",
      "    value = obj.__dict__[self.func.__name__] = self.func(obj)\n",
      "  File \"/home/AD.NORCERESEARCH.NO/javi/.local/lib/python3.8/site-packages/stack_data/core.py\", line 649, in included_pieces\n",
      "    pos = scope_pieces.index(self.executing_piece)\n",
      "  File \"/home/AD.NORCERESEARCH.NO/javi/.local/lib/python3.8/site-packages/stack_data/utils.py\", line 145, in cached_property_wrapper\n",
      "    value = obj.__dict__[self.func.__name__] = self.func(obj)\n",
      "  File \"/home/AD.NORCERESEARCH.NO/javi/.local/lib/python3.8/site-packages/stack_data/core.py\", line 628, in executing_piece\n",
      "    return only(\n",
      "  File \"/home/AD.NORCERESEARCH.NO/javi/.local/lib/python3.8/site-packages/executing/executing.py\", line 164, in only\n",
      "    raise NotOneValueFound('Expected one value, found 0')\n",
      "executing.executing.NotOneValueFound: Expected one value, found 0\n"
     ]
    }
   ],
   "source": [
    "%run PythonScripts/distance_map.py blood/mesh/fontan_stor_v5_L1_bl050_sl3.vtu blood/centerlines.vtp 0.5 2"
   ]
  },
  {
   "cell_type": "code",
   "execution_count": null,
   "id": "ad946e32",
   "metadata": {},
   "outputs": [],
   "source": []
  },
  {
   "cell_type": "code",
   "execution_count": null,
   "id": "0e40ad72",
   "metadata": {},
   "outputs": [],
   "source": []
  },
  {
   "cell_type": "code",
   "execution_count": null,
   "id": "6833cb8c",
   "metadata": {},
   "outputs": [],
   "source": []
  },
  {
   "cell_type": "code",
   "execution_count": null,
   "id": "74b87673",
   "metadata": {},
   "outputs": [],
   "source": []
  },
  {
   "cell_type": "code",
   "execution_count": null,
   "id": "2a648d54",
   "metadata": {},
   "outputs": [],
   "source": []
  },
  {
   "cell_type": "code",
   "execution_count": null,
   "id": "af7c0f4f",
   "metadata": {},
   "outputs": [],
   "source": []
  },
  {
   "cell_type": "code",
   "execution_count": null,
   "id": "14e3be0f",
   "metadata": {},
   "outputs": [],
   "source": []
  },
  {
   "cell_type": "code",
   "execution_count": null,
   "id": "292a448f",
   "metadata": {},
   "outputs": [],
   "source": []
  },
  {
   "cell_type": "code",
   "execution_count": null,
   "id": "40feb766",
   "metadata": {},
   "outputs": [],
   "source": []
  },
  {
   "cell_type": "code",
   "execution_count": null,
   "id": "b34d9987",
   "metadata": {},
   "outputs": [],
   "source": []
  }
 ],
 "metadata": {
  "kernelspec": {
   "display_name": "Python 3 (ipykernel)",
   "language": "python",
   "name": "python3"
  },
  "language_info": {
   "codemirror_mode": {
    "name": "ipython",
    "version": 3
   },
   "file_extension": ".py",
   "mimetype": "text/x-python",
   "name": "python",
   "nbconvert_exporter": "python",
   "pygments_lexer": "ipython3",
   "version": "3.8.10"
  }
 },
 "nbformat": 4,
 "nbformat_minor": 5
}
