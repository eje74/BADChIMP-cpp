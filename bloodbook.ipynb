{
 "cells": [
  {
   "cell_type": "code",
   "execution_count": 2,
   "id": "4b0c4c29",
   "metadata": {},
   "outputs": [],
   "source": [
    "import pyvista as pv\n",
    "import numpy as np\n",
    "from pathlib import Path"
   ]
  },
  {
   "cell_type": "code",
   "execution_count": 3,
   "id": "24cb26f2",
   "metadata": {},
   "outputs": [],
   "source": [
    "file = Path('blood/centerlines.vtp')\n",
    "cl = pv.read(file)"
   ]
  },
  {
   "cell_type": "code",
   "execution_count": 4,
   "id": "662225d1",
   "metadata": {},
   "outputs": [
    {
     "data": {
      "text/plain": [
       "(6, 6, 1, 701)"
      ]
     },
     "execution_count": 4,
     "metadata": {},
     "output_type": "execute_result"
    }
   ],
   "source": [
    "cl.n_cells, cl.n_lines, cl.n_arrays, cl.n_points"
   ]
  },
  {
   "cell_type": "code",
   "execution_count": 5,
   "id": "26192e82",
   "metadata": {},
   "outputs": [
    {
     "data": {
      "text/plain": [
       "(701,)"
      ]
     },
     "execution_count": 5,
     "metadata": {},
     "output_type": "execute_result"
    }
   ],
   "source": [
    "cl2 = cl.compute_arc_length()\n",
    "cl2['arc_length'].shape"
   ]
  },
  {
   "cell_type": "code",
   "execution_count": 6,
   "id": "5510e120",
   "metadata": {},
   "outputs": [
    {
     "data": {
      "text/plain": [
       "'PolyData (0x11cd2c8e0)\\n  N Cells:\\t6\\n  N Points:\\t701\\n  X Bounds:\\t-4.257e+01, 2.567e+01\\n  Y Bounds:\\t-1.400e+00, 4.615e+01\\n  Z Bounds:\\t-1.812e+01, 9.256e+01\\n  N Arrays:\\t1\\n'"
      ]
     },
     "execution_count": 6,
     "metadata": {},
     "output_type": "execute_result"
    }
   ],
   "source": [
    "cl.head()"
   ]
  },
  {
   "cell_type": "code",
   "execution_count": 23,
   "id": "7dae7974",
   "metadata": {},
   "outputs": [
    {
     "data": {
      "text/plain": [
       "pyvista DataSetAttributes\n",
       "Association     : CELL\n",
       "Active Scalars  : None\n",
       "Active Vectors  : None\n",
       "Active Texture  : None\n",
       "Active Normals  : None\n",
       "Contains arrays :\n",
       "    vtkOriginalCellIds      int64    (6,)"
      ]
     },
     "execution_count": 23,
     "metadata": {},
     "output_type": "execute_result"
    }
   ],
   "source": [
    "npoints = [cl.cell_n_points(i) for i in range(cl.n_cells)]\n",
    "start = np.cumsum([0]+npoints)\n",
    "lines = [np.arange(start[i],start[i+1]) for i in range(len(start)-1)]\n",
    "cl.compute_arc_length()\n",
    "cl.cell_data"
   ]
  },
  {
   "cell_type": "code",
   "execution_count": 18,
   "id": "1f70e079",
   "metadata": {},
   "outputs": [
    {
     "data": {
      "text/plain": [
       "array([574, 575, 576, 577, 578, 579, 580, 581, 582, 583, 584, 585, 586,\n",
       "       587, 588, 589, 590, 591, 592, 593, 594, 595, 596, 597, 598, 599,\n",
       "       600, 601, 602, 603, 604, 605, 606, 607, 608, 609, 610, 611, 612,\n",
       "       613, 614, 615, 616, 617, 618, 619, 620, 621, 622, 623, 624, 625,\n",
       "       626, 627, 628, 629, 630, 631, 632, 633, 634, 635, 636, 637, 638,\n",
       "       639, 640, 641, 642, 643, 644, 645, 646, 647, 648, 649, 650, 651,\n",
       "       652, 653, 654, 655, 656, 657, 658, 659, 660, 661, 662, 663, 664,\n",
       "       665, 666, 667, 668, 669, 670, 671, 672, 673, 674, 675, 676, 677,\n",
       "       678, 679, 680, 681, 682, 683, 684, 685, 686, 687, 688, 689, 690,\n",
       "       691, 692, 693, 694, 695, 696, 697, 698, 699, 700])"
      ]
     },
     "execution_count": 18,
     "metadata": {},
     "output_type": "execute_result"
    }
   ],
   "source": [
    "cl2 = cl.extract_cells(5)\n",
    "cl2[cl2.array_names[1]]"
   ]
  },
  {
   "cell_type": "code",
   "execution_count": 9,
   "id": "0c0db889",
   "metadata": {
    "scrolled": true
   },
   "outputs": [],
   "source": [
    "lines = [pv.PolyData(cl.cell_points(i))  for i in range(cl.n_cells)]\n",
    "#length = [l['arc_length'] for l in lines]"
   ]
  },
  {
   "cell_type": "code",
   "execution_count": 10,
   "id": "dde7d1af",
   "metadata": {},
   "outputs": [
    {
     "data": {
      "text/html": [
       "\n",
       "<table>\n",
       "<tr><th>PolyData</th><th>Information</th></tr>\n",
       "<tr><td>N Cells</td><td>89</td></tr>\n",
       "<tr><td>N Points</td><td>89</td></tr>\n",
       "<tr><td>X Bounds</td><td>-2.838e+01, -1.971e+01</td></tr>\n",
       "<tr><td>Y Bounds</td><td>2.862e+01, 3.915e+01</td></tr>\n",
       "<tr><td>Z Bounds</td><td>-1.812e+01, 5.463e+01</td></tr>\n",
       "<tr><td>N Arrays</td><td>0</td></tr>\n",
       "</table>\n",
       "\n"
      ],
      "text/plain": [
       "PolyData (0x11cd69760)\n",
       "  N Cells:\t89\n",
       "  N Points:\t89\n",
       "  X Bounds:\t-2.838e+01, -1.971e+01\n",
       "  Y Bounds:\t2.862e+01, 3.915e+01\n",
       "  Z Bounds:\t-1.812e+01, 5.463e+01\n",
       "  N Arrays:\t0"
      ]
     },
     "execution_count": 10,
     "metadata": {},
     "output_type": "execute_result"
    }
   ],
   "source": [
    "lines[0]"
   ]
  },
  {
   "cell_type": "code",
   "execution_count": null,
   "id": "a15d77f3",
   "metadata": {},
   "outputs": [],
   "source": []
  }
 ],
 "metadata": {
  "kernelspec": {
   "display_name": "Python 3 (ipykernel)",
   "language": "python",
   "name": "python3"
  },
  "language_info": {
   "codemirror_mode": {
    "name": "ipython",
    "version": 3
   },
   "file_extension": ".py",
   "mimetype": "text/x-python",
   "name": "python",
   "nbconvert_exporter": "python",
   "pygments_lexer": "ipython3",
   "version": "3.9.12"
  }
 },
 "nbformat": 4,
 "nbformat_minor": 5
}
