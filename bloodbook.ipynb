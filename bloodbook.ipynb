{
 "cells": [
  {
   "cell_type": "code",
   "execution_count": 1,
   "id": "4b0c4c29",
   "metadata": {},
   "outputs": [],
   "source": [
    "import pyvista as pv\n",
    "import numpy as np\n",
    "from pathlib import Path"
   ]
  },
  {
   "cell_type": "code",
   "execution_count": 2,
   "id": "24cb26f2",
   "metadata": {},
   "outputs": [],
   "source": [
    "file = Path('blood/centerlines.vtp')\n",
    "cl = pv.read(file)"
   ]
  },
  {
   "cell_type": "code",
   "execution_count": 3,
   "id": "662225d1",
   "metadata": {},
   "outputs": [
    {
     "data": {
      "text/plain": [
       "(6, 6, 1, 701)"
      ]
     },
     "execution_count": 3,
     "metadata": {},
     "output_type": "execute_result"
    }
   ],
   "source": [
    "cl.n_cells, cl.n_lines, cl.n_arrays, cl.n_points"
   ]
  },
  {
   "cell_type": "code",
   "execution_count": 4,
   "id": "26192e82",
   "metadata": {},
   "outputs": [
    {
     "data": {
      "text/plain": [
       "(701,)"
      ]
     },
     "execution_count": 4,
     "metadata": {},
     "output_type": "execute_result"
    }
   ],
   "source": [
    "cl2 = cl.compute_arc_length()\n",
    "cl2['arc_length'].shape"
   ]
  },
  {
   "cell_type": "code",
   "execution_count": 5,
   "id": "5510e120",
   "metadata": {},
   "outputs": [
    {
     "data": {
      "text/plain": [
       "'PolyData (0x11b1908e0)\\n  N Cells:\\t6\\n  N Points:\\t701\\n  X Bounds:\\t-4.257e+01, 2.567e+01\\n  Y Bounds:\\t-1.400e+00, 4.615e+01\\n  Z Bounds:\\t-1.812e+01, 9.256e+01\\n  N Arrays:\\t1\\n'"
      ]
     },
     "execution_count": 5,
     "metadata": {},
     "output_type": "execute_result"
    }
   ],
   "source": [
    "cl.head()"
   ]
  },
  {
   "cell_type": "code",
   "execution_count": 6,
   "id": "7dae7974",
   "metadata": {},
   "outputs": [
    {
     "data": {
      "text/plain": [
       "pyvista DataSetAttributes\n",
       "Association     : CELL\n",
       "Active Scalars  : None\n",
       "Active Vectors  : None\n",
       "Active Texture  : None\n",
       "Active Normals  : None\n",
       "Contains arrays : None"
      ]
     },
     "execution_count": 6,
     "metadata": {},
     "output_type": "execute_result"
    }
   ],
   "source": [
    "npoints = [cl.cell_n_points(i) for i in range(cl.n_cells)]\n",
    "start = np.cumsum([0]+npoints)\n",
    "lines = [np.arange(start[i],start[i+1]) for i in range(len(start)-1)]\n",
    "cl.compute_arc_length()\n",
    "cl.cell_data"
   ]
  },
  {
   "cell_type": "code",
   "execution_count": 7,
   "id": "ec328aed",
   "metadata": {},
   "outputs": [],
   "source": [
    "p = []\n",
    "[p.extend(cl.cell_points(i)) for i in range(cl.n_cells)]\n",
    "pts = np.array(p)"
   ]
  },
  {
   "cell_type": "code",
   "execution_count": 8,
   "id": "5d376d57",
   "metadata": {},
   "outputs": [],
   "source": [
    "from scipy.spatial import KDTree"
   ]
  },
  {
   "cell_type": "code",
   "execution_count": 9,
   "id": "4309ba76",
   "metadata": {},
   "outputs": [],
   "source": [
    "def remove_close_points(pts, r=0.001):\n",
    "    pairs = KDTree(pts).query_pairs(r=r)\n",
    "    remove = list(set([b for a,b in pairs]))\n",
    "    keep = np.ones(len(pts))\n",
    "    keep[remove] = 0\n",
    "    return pts[keep.astype(bool)]"
   ]
  },
  {
   "cell_type": "code",
   "execution_count": 10,
   "id": "bbf86b85",
   "metadata": {},
   "outputs": [],
   "source": [
    "def find_closest_pair(pts):\n",
    "    dist_idx = KDTree(pts).query(pts)\n",
    "    "
   ]
  },
  {
   "cell_type": "code",
   "execution_count": 11,
   "id": "f8f22f89",
   "metadata": {},
   "outputs": [
    {
     "name": "stdout",
     "output_type": "stream",
     "text": [
      "0.2\n",
      "0.30000000000000004\n",
      "0.4\n",
      "0.5\n",
      "0.6000000000000001\n",
      "0.7000000000000001\n",
      "0.8\n",
      "0.9\n"
     ]
    }
   ],
   "source": [
    "pts2 = remove_close_points(pts)\n",
    "pts3 = remove_close_points(pts2, r=0.1)\n",
    "for i in range(2, 10):\n",
    "    print(i*0.1)\n"
   ]
  },
  {
   "cell_type": "code",
   "execution_count": 12,
   "id": "0c0db889",
   "metadata": {
    "scrolled": true
   },
   "outputs": [],
   "source": [
    "lines = [pv.PolyData(cl.cell_points(i))  for i in range(cl.n_cells)]\n",
    "#length = [l['arc_length'] for l in lines]"
   ]
  },
  {
   "cell_type": "code",
   "execution_count": 13,
   "id": "dde7d1af",
   "metadata": {},
   "outputs": [
    {
     "data": {
      "text/html": [
       "\n",
       "<table>\n",
       "<tr><th>PolyData</th><th>Information</th></tr>\n",
       "<tr><td>N Cells</td><td>89</td></tr>\n",
       "<tr><td>N Points</td><td>89</td></tr>\n",
       "<tr><td>X Bounds</td><td>-2.838e+01, -1.971e+01</td></tr>\n",
       "<tr><td>Y Bounds</td><td>2.862e+01, 3.915e+01</td></tr>\n",
       "<tr><td>Z Bounds</td><td>-1.812e+01, 5.463e+01</td></tr>\n",
       "<tr><td>N Arrays</td><td>0</td></tr>\n",
       "</table>\n",
       "\n"
      ],
      "text/plain": [
       "PolyData (0x107eef580)\n",
       "  N Cells:\t89\n",
       "  N Points:\t89\n",
       "  X Bounds:\t-2.838e+01, -1.971e+01\n",
       "  Y Bounds:\t2.862e+01, 3.915e+01\n",
       "  Z Bounds:\t-1.812e+01, 5.463e+01\n",
       "  N Arrays:\t0"
      ]
     },
     "execution_count": 13,
     "metadata": {},
     "output_type": "execute_result"
    }
   ],
   "source": [
    "lines[0]"
   ]
  },
  {
   "cell_type": "code",
   "execution_count": 14,
   "id": "a15d77f3",
   "metadata": {},
   "outputs": [],
   "source": [
    "A = np.arange(12).reshape(2,6)"
   ]
  },
  {
   "cell_type": "code",
   "execution_count": 15,
   "id": "5ee48120",
   "metadata": {},
   "outputs": [
    {
     "data": {
      "text/plain": [
       "array([0, 1, 2, 3, 4, 5])"
      ]
     },
     "execution_count": 15,
     "metadata": {},
     "output_type": "execute_result"
    }
   ],
   "source": [
    "A[0,:]"
   ]
  },
  {
   "cell_type": "code",
   "execution_count": 20,
   "id": "9729b0ad",
   "metadata": {},
   "outputs": [
    {
     "name": "stdout",
     "output_type": "stream",
     "text": [
      "  Creating uniform grid of dimension [155 118 240]\n",
      "  Calculating distance from grid nodes to the surface ...\n",
      "  Creating unstructured grid with outer wall of 2 voxels ...\n",
      "  Creating tubes ...\n",
      "  Check for unconnected tubes ...\n",
      "  Unconnected tube 5 is merged into solid tube 1 ...\n",
      "  Calculate slice indices ...\n",
      "min, max, c : 0, 136, 137\n",
      "min, max, c : 122, 163, 179\n",
      "min, max, c : 70, 88, 198\n",
      "min, max, c : 83, 125, 241\n",
      "ugrid.n_cells: 397513, ugrid2.n_cells: 397513\n",
      "  Saved blood/mesh/distance_map.vtk\n"
     ]
    }
   ],
   "source": [
    "%run PythonScripts/distance_map_v2.py blood/mesh/fontan_stor_v5_L1_bl050_sl3.vtu blood/centerlines.vtp 0.5 2"
   ]
  },
  {
   "cell_type": "code",
   "execution_count": 17,
   "id": "bddc2099",
   "metadata": {},
   "outputs": [
    {
     "ename": "AttributeError",
     "evalue": "'list' object has no attribute 'size'",
     "output_type": "error",
     "traceback": [
      "\u001b[0;31m---------------------------------------------------------------------------\u001b[0m",
      "\u001b[0;31mAttributeError\u001b[0m                            Traceback (most recent call last)",
      "\u001b[1;32m/Users/janlv/github/BADChIMP-cpp/bloodbook.ipynb Cell 17'\u001b[0m in \u001b[0;36m<cell line: 2>\u001b[0;34m()\u001b[0m\n\u001b[1;32m      <a href='vscode-notebook-cell:/Users/janlv/github/BADChIMP-cpp/bloodbook.ipynb#ch0000016?line=0'>1</a>\u001b[0m nproc \u001b[39m=\u001b[39m \u001b[39m10\u001b[39m\n\u001b[0;32m----> <a href='vscode-notebook-cell:/Users/janlv/github/BADChIMP-cpp/bloodbook.ipynb#ch0000016?line=1'>2</a>\u001b[0m proc_size \u001b[39m=\u001b[39m np\u001b[39m.\u001b[39mceil(tube\u001b[39m.\u001b[39msize\u001b[39m/\u001b[39mnproc)\n",
      "\u001b[0;31mAttributeError\u001b[0m: 'list' object has no attribute 'size'"
     ]
    }
   ],
   "source": [
    "nproc = 10\n",
    "proc_size = np.ceil(tube.size/nproc)"
   ]
  },
  {
   "cell_type": "code",
   "execution_count": null,
   "id": "063ed5e1",
   "metadata": {},
   "outputs": [
    {
     "name": "stdout",
     "output_type": "stream",
     "text": [
      "16830\n",
      "2 2\n"
     ]
    }
   ],
   "source": [
    "mask = slice<10\n",
    "print(np.sum(slice<10))\n",
    "print(tube[mask].min(), tube[mask].max())"
   ]
  },
  {
   "cell_type": "code",
   "execution_count": null,
   "id": "a9578d7e",
   "metadata": {},
   "outputs": [
    {
     "data": {
      "text/plain": [
       "array([2, 2, 2, ..., 3, 3, 3])"
      ]
     },
     "execution_count": 15,
     "metadata": {},
     "output_type": "execute_result"
    }
   ],
   "source": [
    "mask = slice<1\n",
    "tube"
   ]
  },
  {
   "cell_type": "code",
   "execution_count": null,
   "id": "24a9fb7a",
   "metadata": {},
   "outputs": [],
   "source": []
  },
  {
   "cell_type": "code",
   "execution_count": null,
   "id": "95af5c16",
   "metadata": {},
   "outputs": [],
   "source": []
  },
  {
   "cell_type": "code",
   "execution_count": null,
   "id": "b6b23005",
   "metadata": {},
   "outputs": [],
   "source": []
  },
  {
   "cell_type": "code",
   "execution_count": null,
   "id": "b477b8ef",
   "metadata": {},
   "outputs": [],
   "source": []
  },
  {
   "cell_type": "code",
   "execution_count": null,
   "id": "c7539004",
   "metadata": {},
   "outputs": [],
   "source": []
  },
  {
   "cell_type": "code",
   "execution_count": null,
   "id": "cbdbaecb",
   "metadata": {},
   "outputs": [
    {
     "data": {
      "text/plain": [
       "array([  0,   0,   0, ..., 178, 178, 178])"
      ]
     },
     "execution_count": 16,
     "metadata": {},
     "output_type": "execute_result"
    }
   ],
   "source": [
    "slice"
   ]
  },
  {
   "cell_type": "code",
   "execution_count": null,
   "id": "15dee3b2",
   "metadata": {},
   "outputs": [],
   "source": []
  },
  {
   "cell_type": "code",
   "execution_count": null,
   "id": "4cb20bc5",
   "metadata": {},
   "outputs": [],
   "source": []
  },
  {
   "cell_type": "code",
   "execution_count": null,
   "id": "2f8049d6",
   "metadata": {},
   "outputs": [
    {
     "name": "stdout",
     "output_type": "stream",
     "text": [
      "p: 0, a,b: 0,23\n",
      "p: 1, a,b: 23,45\n",
      "p: 2, a,b: 45,61\n",
      "p: 3, a,b: 61,73\n",
      "p: 4, a,b: 73,86\n",
      "p: 5, a,b: 86,110\n",
      "p: 6, a,b: 110,149\n",
      "p: 7, a,b: 149,223\n",
      "p: 8, a,b: 223,242\n",
      "p: 9, a,b: 242,262\n"
     ]
    }
   ],
   "source": [
    "proc = -1*ones(ugrid.n_cells, dtype=int)\n",
    "stop = npmax(slice)\n",
    "a = b = 0\n",
    "p = 0\n",
    "while b < stop:\n",
    "    mask = (slice>=a)*(slice<=b)\n",
    "    if np.sum(mask) >= proc_size:\n",
    "        print(f'p: {p}, a,b: {a},{b}')\n",
    "        a = b\n",
    "        proc[mask] = p\n",
    "        p += 1\n",
    "    b += 1\n",
    "ugrid['proc'] = proc\n",
    "ugrid.save('processes.vtk')        "
   ]
  },
  {
   "cell_type": "code",
   "execution_count": null,
   "id": "20a004f0",
   "metadata": {},
   "outputs": [],
   "source": [
    "tgrid5 = ugrid.threshold(value=5, scalars='tube')"
   ]
  },
  {
   "cell_type": "code",
   "execution_count": null,
   "id": "30db6a94",
   "metadata": {},
   "outputs": [],
   "source": [
    "conn = tgrid5.connectivity()"
   ]
  },
  {
   "cell_type": "code",
   "execution_count": null,
   "id": "13b28784",
   "metadata": {},
   "outputs": [],
   "source": [
    "bodies = conn.split_bodies()"
   ]
  },
  {
   "cell_type": "code",
   "execution_count": null,
   "id": "59c03fb2",
   "metadata": {},
   "outputs": [],
   "source": [
    "vol = [bodies[k].volume for k in bodies.keys()]"
   ]
  },
  {
   "cell_type": "code",
   "execution_count": null,
   "id": "84042b97",
   "metadata": {},
   "outputs": [],
   "source": [
    "body_list = [bodies[bodies.keys()[i]] for i in np.argsort(vol)]"
   ]
  },
  {
   "cell_type": "code",
   "execution_count": null,
   "id": "5099897d",
   "metadata": {},
   "outputs": [],
   "source": [
    "tgrid1 = ugrid.threshold(value=(1,1), scalars='tube')"
   ]
  },
  {
   "cell_type": "code",
   "execution_count": null,
   "id": "dfa483f3",
   "metadata": {},
   "outputs": [],
   "source": [
    "t51 = tgrid5 + tgrid1"
   ]
  },
  {
   "cell_type": "code",
   "execution_count": null,
   "id": "ea832bb2",
   "metadata": {},
   "outputs": [],
   "source": [
    "to_move = pv.UnstructuredGrid().merge(body_list[:-1])"
   ]
  },
  {
   "cell_type": "code",
   "execution_count": null,
   "id": "e7453c46",
   "metadata": {},
   "outputs": [],
   "source": [
    "sel = ugrid.select_enclosed_points(to_move.extract_surface(), tolerance=0.0, check_surface=False)\n",
    "mask = sel.point_data['SelectedPoints'].view(bool)"
   ]
  },
  {
   "cell_type": "code",
   "execution_count": null,
   "id": "a5de398e",
   "metadata": {},
   "outputs": [
    {
     "data": {
      "application/vnd.jupyter.widget-view+json": {
       "model_id": "1dac6d02d73b40d396940e188470692f",
       "version_major": 2,
       "version_minor": 0
      },
      "text/plain": [
       "ViewInteractiveWidget(height=768, layout=Layout(height='auto', width='100%'), width=1024)"
      ]
     },
     "metadata": {},
     "output_type": "display_data"
    }
   ],
   "source": [
    "sel.plot(scalars='tube')"
   ]
  },
  {
   "cell_type": "code",
   "execution_count": null,
   "id": "3281dcba",
   "metadata": {},
   "outputs": [
    {
     "data": {
      "text/html": [
       "<table><tr><th>Header</th><th>Data Arrays</th></tr><tr><td>\n",
       "<table>\n",
       "<tr><th>UnstructuredGrid</th><th>Information</th></tr>\n",
       "<tr><td>N Cells</td><td>397513</td></tr>\n",
       "<tr><td>N Points</td><td>434719</td></tr>\n",
       "<tr><td>X Bounds</td><td>-4.602e+01, 3.148e+01</td></tr>\n",
       "<tr><td>Y Bounds</td><td>-6.775e+00, 5.173e+01</td></tr>\n",
       "<tr><td>Z Bounds</td><td>-2.208e+01, 9.742e+01</td></tr>\n",
       "<tr><td>N Arrays</td><td>11</td></tr>\n",
       "</table>\n",
       "\n",
       "</td><td>\n",
       "<table>\n",
       "<tr><th>Name</th><th>Field</th><th>Type</th><th>N Comp</th><th>Min</th><th>Max</th></tr>\n",
       "<tr><td>distance</td><td>Cells</td><td>float64</td><td>1</td><td>-1.000e+00</td><td>9.529e+00</td></tr>\n",
       "<tr><td>boundary</td><td>Cells</td><td>int32</td><td>1</td><td>0.000e+00</td><td>8.000e+00</td></tr>\n",
       "<tr><td>line_0_distance</td><td>Cells</td><td>float64</td><td>1</td><td>7.221e-02</td><td>7.058e+01</td></tr>\n",
       "<tr><td>line_1_distance</td><td>Cells</td><td>float64</td><td>1</td><td>5.062e-02</td><td>8.068e+01</td></tr>\n",
       "<tr><td>line_2_distance</td><td>Cells</td><td>float64</td><td>1</td><td>3.429e-02</td><td>4.966e+01</td></tr>\n",
       "<tr><td>line_3_distance</td><td>Cells</td><td>float64</td><td>1</td><td>1.885e-02</td><td>4.948e+01</td></tr>\n",
       "<tr><td>line_4_distance</td><td>Cells</td><td>float64</td><td>1</td><td>7.221e-02</td><td>8.000e+01</td></tr>\n",
       "<tr><td>line_5_distance</td><td>Cells</td><td>float64</td><td>1</td><td>5.242e-02</td><td>5.575e+01</td></tr>\n",
       "<tr><td>tube</td><td>Cells</td><td>int64</td><td>1</td><td>1.000e+00</td><td>5.000e+00</td></tr>\n",
       "<tr><td>slice</td><td>Cells</td><td>int64</td><td>1</td><td>0.000e+00</td><td>2.670e+02</td></tr>\n",
       "<tr><td><b>proc</b></td><td>Cells</td><td>int64</td><td>1</td><td>-1.000e+00</td><td>9.000e+00</td></tr>\n",
       "</table>\n",
       "\n",
       "</td></tr> </table>"
      ],
      "text/plain": [
       "UnstructuredGrid (0x1290b0220)\n",
       "  N Cells:\t397513\n",
       "  N Points:\t434719\n",
       "  X Bounds:\t-4.602e+01, 3.148e+01\n",
       "  Y Bounds:\t-6.775e+00, 5.173e+01\n",
       "  Z Bounds:\t-2.208e+01, 9.742e+01\n",
       "  N Arrays:\t11"
      ]
     },
     "execution_count": 28,
     "metadata": {},
     "output_type": "execute_result"
    }
   ],
   "source": [
    "ugrid"
   ]
  },
  {
   "cell_type": "code",
   "execution_count": null,
   "id": "08d25de0",
   "metadata": {},
   "outputs": [
    {
     "data": {
      "text/html": [
       "<table><tr><th>Header</th><th>Data Arrays</th></tr><tr><td>\n",
       "<table>\n",
       "<tr><th>UnstructuredGrid</th><th>Information</th></tr>\n",
       "<tr><td>N Cells</td><td>397513</td></tr>\n",
       "<tr><td>N Points</td><td>434719</td></tr>\n",
       "<tr><td>X Bounds</td><td>-4.602e+01, 3.148e+01</td></tr>\n",
       "<tr><td>Y Bounds</td><td>-6.775e+00, 5.173e+01</td></tr>\n",
       "<tr><td>Z Bounds</td><td>-2.208e+01, 9.742e+01</td></tr>\n",
       "<tr><td>N Arrays</td><td>12</td></tr>\n",
       "</table>\n",
       "\n",
       "</td><td>\n",
       "<table>\n",
       "<tr><th>Name</th><th>Field</th><th>Type</th><th>N Comp</th><th>Min</th><th>Max</th></tr>\n",
       "<tr><td>SelectedPoints</td><td>Points</td><td>uint8</td><td>1</td><td>0.000e+00</td><td>1.000e+00</td></tr>\n",
       "<tr><td>distance</td><td>Cells</td><td>float64</td><td>1</td><td>-1.000e+00</td><td>9.529e+00</td></tr>\n",
       "<tr><td>boundary</td><td>Cells</td><td>int32</td><td>1</td><td>0.000e+00</td><td>8.000e+00</td></tr>\n",
       "<tr><td>line_0_distance</td><td>Cells</td><td>float64</td><td>1</td><td>7.221e-02</td><td>7.058e+01</td></tr>\n",
       "<tr><td>line_1_distance</td><td>Cells</td><td>float64</td><td>1</td><td>5.062e-02</td><td>8.068e+01</td></tr>\n",
       "<tr><td>line_2_distance</td><td>Cells</td><td>float64</td><td>1</td><td>3.429e-02</td><td>4.966e+01</td></tr>\n",
       "<tr><td>line_3_distance</td><td>Cells</td><td>float64</td><td>1</td><td>1.885e-02</td><td>4.948e+01</td></tr>\n",
       "<tr><td>line_4_distance</td><td>Cells</td><td>float64</td><td>1</td><td>7.221e-02</td><td>8.000e+01</td></tr>\n",
       "<tr><td>line_5_distance</td><td>Cells</td><td>float64</td><td>1</td><td>5.242e-02</td><td>5.575e+01</td></tr>\n",
       "<tr><td><b>tube</b></td><td>Cells</td><td>int64</td><td>1</td><td>1.000e+00</td><td>5.000e+00</td></tr>\n",
       "<tr><td>slice</td><td>Cells</td><td>int64</td><td>1</td><td>0.000e+00</td><td>2.670e+02</td></tr>\n",
       "<tr><td>proc</td><td>Cells</td><td>int64</td><td>1</td><td>-1.000e+00</td><td>9.000e+00</td></tr>\n",
       "</table>\n",
       "\n",
       "</td></tr> </table>"
      ],
      "text/plain": [
       "UnstructuredGrid (0x12912f4c0)\n",
       "  N Cells:\t397513\n",
       "  N Points:\t434719\n",
       "  X Bounds:\t-4.602e+01, 3.148e+01\n",
       "  Y Bounds:\t-6.775e+00, 5.173e+01\n",
       "  Z Bounds:\t-2.208e+01, 9.742e+01\n",
       "  N Arrays:\t12"
      ]
     },
     "execution_count": 29,
     "metadata": {},
     "output_type": "execute_result"
    }
   ],
   "source": [
    "sel"
   ]
  },
  {
   "cell_type": "code",
   "execution_count": null,
   "id": "649bc087",
   "metadata": {},
   "outputs": [],
   "source": [
    "ugrid2 = sel.point_data_to_cell_data('SelectedPoints')"
   ]
  },
  {
   "cell_type": "code",
   "execution_count": null,
   "id": "32e07e94",
   "metadata": {},
   "outputs": [],
   "source": [
    "ugrid2['tube'][ugrid2['SelectedPoints']>0] = -1"
   ]
  },
  {
   "cell_type": "code",
   "execution_count": null,
   "id": "0a64c5b0",
   "metadata": {},
   "outputs": [
    {
     "data": {
      "application/vnd.jupyter.widget-view+json": {
       "model_id": "328c5e9665b04f43bc4051072d244721",
       "version_major": 2,
       "version_minor": 0
      },
      "text/plain": [
       "ViewInteractiveWidget(height=768, layout=Layout(height='auto', width='100%'), width=1024)"
      ]
     },
     "metadata": {},
     "output_type": "display_data"
    }
   ],
   "source": [
    "ugrid2.plot(scalars='tube')"
   ]
  },
  {
   "cell_type": "code",
   "execution_count": null,
   "id": "a5f8ca1b",
   "metadata": {},
   "outputs": [],
   "source": [
    "to_move['tube'] = -1*np.ones(to_move.n_cells, dtype=int)"
   ]
  },
  {
   "cell_type": "code",
   "execution_count": null,
   "id": "f22716fe",
   "metadata": {},
   "outputs": [],
   "source": [
    "grid3 = ugrid + to_move"
   ]
  },
  {
   "cell_type": "code",
   "execution_count": null,
   "id": "bf0d1ef8",
   "metadata": {},
   "outputs": [
    {
     "data": {
      "application/vnd.jupyter.widget-view+json": {
       "model_id": "78e22954cb194f3e8edb129eb7b2223c",
       "version_major": 2,
       "version_minor": 0
      },
      "text/plain": [
       "ViewInteractiveWidget(height=768, layout=Layout(height='auto', width='100%'), width=1024)"
      ]
     },
     "metadata": {},
     "output_type": "display_data"
    }
   ],
   "source": [
    "to_move.plot(scalars='tube')"
   ]
  },
  {
   "cell_type": "code",
   "execution_count": null,
   "id": "5112f8f7",
   "metadata": {},
   "outputs": [
    {
     "data": {
      "text/plain": [
       "1063"
      ]
     },
     "execution_count": 36,
     "metadata": {},
     "output_type": "execute_result"
    }
   ],
   "source": [
    "sum([b.n_cells for b in body_list][:-1])"
   ]
  },
  {
   "cell_type": "code",
   "execution_count": null,
   "id": "9b0afeb6",
   "metadata": {},
   "outputs": [
    {
     "data": {
      "text/plain": [
       "1063"
      ]
     },
     "execution_count": 37,
     "metadata": {},
     "output_type": "execute_result"
    }
   ],
   "source": [
    "397513-396450"
   ]
  }
 ],
 "metadata": {
  "interpreter": {
   "hash": "aee8b7b246df8f9039afb4144a1f6fd8d2ca17a180786b69acc140d282b71a49"
  },
  "kernelspec": {
   "display_name": "Python 3.9.12 64-bit",
   "language": "python",
   "name": "python3"
  },
  "language_info": {
   "codemirror_mode": {
    "name": "ipython",
    "version": 3
   },
   "file_extension": ".py",
   "mimetype": "text/x-python",
   "name": "python",
   "nbconvert_exporter": "python",
   "pygments_lexer": "ipython3",
   "version": "3.9.12"
  }
 },
 "nbformat": 4,
 "nbformat_minor": 5
}
